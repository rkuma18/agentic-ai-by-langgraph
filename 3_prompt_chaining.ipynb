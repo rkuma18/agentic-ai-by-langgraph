{
 "cells": [
  {
   "cell_type": "code",
   "execution_count": 1,
   "id": "4db06bde",
   "metadata": {},
   "outputs": [],
   "source": [
    "from langgraph.graph import StateGraph, START, END\n",
    "from langchain_openai import ChatOpenAI\n",
    "from typing import TypedDict\n",
    "from dotenv import load_dotenv"
   ]
  },
  {
   "cell_type": "code",
   "execution_count": 2,
   "id": "415eb039",
   "metadata": {},
   "outputs": [
    {
     "data": {
      "text/plain": [
       "True"
      ]
     },
     "execution_count": 2,
     "metadata": {},
     "output_type": "execute_result"
    }
   ],
   "source": [
    "load_dotenv()"
   ]
  },
  {
   "cell_type": "code",
   "execution_count": 3,
   "id": "04fa9be9",
   "metadata": {},
   "outputs": [],
   "source": [
    "model = ChatOpenAI(model=\"gpt-4o-mini\")"
   ]
  },
  {
   "cell_type": "code",
   "execution_count": 13,
   "id": "655d710f",
   "metadata": {},
   "outputs": [],
   "source": [
    "class BlogState(TypedDict):\n",
    "\n",
    "    title: str\n",
    "    content: str\n",
    "    outline: str\n",
    "    rating: int"
   ]
  },
  {
   "cell_type": "code",
   "execution_count": 5,
   "id": "ad20e9d6",
   "metadata": {},
   "outputs": [],
   "source": [
    "def create_outline(state: BlogState) -> BlogState:\n",
    "\n",
    "    # extract the title from the state\n",
    "    title = state[\"title\"]\n",
    "\n",
    "    # form a prompt\n",
    "    prompt = f\"\"\"\n",
    "    You are a helpful assistant that can create an outline for a blog post.\n",
    "    Title: {title}\n",
    "    Outline:\n",
    "    \"\"\"\n",
    "\n",
    "    # ask the question to the LLM\n",
    "    outline = model.invoke(prompt).content\n",
    "\n",
    "    # update the outline in the state\n",
    "    state[\"outline\"] = outline\n",
    "\n",
    "    return state"
   ]
  },
  {
   "cell_type": "code",
   "execution_count": 6,
   "id": "6b82341d",
   "metadata": {},
   "outputs": [],
   "source": [
    "def create_blog(state: BlogState) -> BlogState:\n",
    "\n",
    "    # extract the title and outline from the state\n",
    "    title = state[\"title\"]\n",
    "    outline = state[\"outline\"]\n",
    "\n",
    "    # form a prompt\n",
    "    prompt = f\"\"\"\n",
    "    You are a helpful assistant that can create a blog post.\n",
    "    Title: {title}\n",
    "    Outline: {outline}\n",
    "    Blog:\n",
    "\n",
    "    \"\"\"\n",
    "\n",
    "    # ask the question to the LLM\n",
    "    blog = model.invoke(prompt).content\n",
    "\n",
    "    # update the blog in the state\n",
    "    state[\"content\"] = blog\n",
    "\n",
    "    return state"
   ]
  },
  {
   "cell_type": "code",
   "execution_count": 17,
   "id": "8d54a423",
   "metadata": {},
   "outputs": [],
   "source": [
    "def rate_blog(state: BlogState) -> BlogState:\n",
    "\n",
    "    # extract the blog from the state\n",
    "    title = state[\"title\"]\n",
    "    content = state[\"content\"]\n",
    "    outline = state[\"outline\"]\n",
    "\n",
    "    # form a prompt\n",
    "    prompt = f\"\"\"\n",
    "    You are a helpful assistant that can rate a blog post.\n",
    "    title: {title}\n",
    "    Outline: {outline}\n",
    "    Content: {content}\n",
    "    Rating:\n",
    "    \"\"\"\n",
    "\n",
    "    # ask the question to the LLM\n",
    "    rating = model.invoke(prompt).content\n",
    "\n",
    "    # update the rating in the state\n",
    "    state[\"rating\"] = rating\n",
    "\n",
    "    return state"
   ]
  },
  {
   "cell_type": "code",
   "execution_count": 18,
   "id": "c669867d",
   "metadata": {},
   "outputs": [],
   "source": [
    "# create a graph\n",
    "\n",
    "graph = StateGraph(BlogState)\n",
    "\n",
    "# add nodes to the \n",
    "graph.add_node(\"create_outline\", create_outline)\n",
    "graph.add_node(\"create_blog\", create_blog)\n",
    "graph.add_node(\"rate_blog\", rate_blog)\n",
    "\n",
    "# add edges to the graph\n",
    "graph.add_edge(START, \"create_outline\")\n",
    "graph.add_edge(\"create_outline\", \"create_blog\")\n",
    "graph.add_edge(\"create_blog\", \"rate_blog\")\n",
    "graph.add_edge(\"rate_blog\", END)\n",
    "\n",
    "# compile the graph\n",
    "workflow = graph.compile()"
   ]
  },
  {
   "cell_type": "code",
   "execution_count": 19,
   "id": "1969cff9",
   "metadata": {},
   "outputs": [
    {
     "name": "stdout",
     "output_type": "stream",
     "text": [
      "{'title': 'Rise of AI in India', 'content': '# Rise of AI in India\\n\\n## Introduction\\nArtificial Intelligence (AI) has emerged as one of the most significant technological advancements of our time, driving innovations and transforming economies across the globe. In India, the evolution of AI is not just a trend; it is a catalyst for development and economic growth. As one of the fastest-growing technology hubs, India stands at a pivotal point where AI can significantly impact various sectors. The rise of AI in India is transforming various sectors, driving innovation, and enhancing productivity, thereby shaping the future of the nation.\\n\\n## 1. Understanding the AI Landscape in India\\nTo appreciate the rise of AI in India, it’s essential to understand what AI is. AI refers to the simulation of human intelligence in machines programmed to think and learn. The historical context of AI in India dates back to the 1980s, with early initiatives in computer science and research. However, it is in recent years that India has witnessed a surge in AI technology and research, fueled by advancements in computing power, access to large datasets, and a growing talent pool.\\n\\n## 2. Key Drivers of AI Adoption in India\\nThe growth of AI in India is supported by several key drivers:\\n\\n- **Government Initiatives**: The Indian government has launched the National AI Strategy to foster research, innovation, and the adoption of AI technologies across various sectors. Policies aimed at promoting AI research and development have set the groundwork for significant advancements.\\n  \\n- **Investment in Startups**: With a burgeoning tech ecosystem, India has seen increased investments in AI startups. Venture capital is flowing into companies pushing the boundaries of AI applications, creating a fertile ground for innovation.\\n  \\n- **Academic Collaborations**: Partnerships between tech companies and academic institutions are enhancing research capabilities and fostering a skilled workforce equipped to handle AI technologies.\\n  \\n- **Digital Infrastructure**: The rapid growth of digital infrastructure and widespread internet accessibility in urban and rural areas has laid the foundation for AI adoption and implementation.\\n\\n## 3. AI Applications Across Sectors\\nThe potential applications of AI in various sectors are extensive:\\n\\n- **Healthcare**: AI technology is revolutionizing healthcare with applications in diagnostics, drug discovery, and patient management systems, improving outcomes and efficiency in service delivery.\\n  \\n- **Agriculture**: AI supports farmers through precision farming techniques, crop monitoring, and data analysis for optimizing supply chains, which can significantly enhance productivity and food security.\\n  \\n- **Finance**: The financial sector utilizes AI for fraud detection, risk assessment, and customer service automation, leading to enhanced security and improved customer experiences.\\n  \\n- **Education**: AI is transforming education through personalized learning experiences, administrative efficiency, and upskilling initiatives tailored to student needs.\\n  \\n- **Manufacturing**: AI technologies facilitate automation, predictive maintenance, and process optimization, resulting in increased operational efficiency and reduced downtime in manufacturing processes.\\n\\n## 4. Challenges Facing AI Development in India\\nDespite the promise of AI, several challenges need to be addressed:\\n\\n- **Data Privacy and Security**: As AI systems rely on large datasets, concerns regarding data privacy and security become paramount, necessitating stringent regulations and frameworks.\\n  \\n- **Ethical Considerations**: The deployment of AI raises ethical questions, particularly in automation and decision-making processes, requiring robust guidelines to ensure responsible use.\\n  \\n- **Skill Gap**: There is a significant demand for skilled professionals in AI, leading to a skill gap that needs addressing through targeted educational programs and upskilling initiatives.\\n  \\n- **Infrastructure Limitations**: While urban areas witness rapid digital advancement, rural regions still face infrastructure challenges that may hinder AI adoption.\\n\\n## 5. Future of AI in India\\nThe future of AI in India looks promising, with expected growth and advancements in technology. AI can play a crucial role in achieving Sustainable Development Goals (SDGs), enhancing education, healthcare, and environmental sustainability. There is potential for India to become a global AI hub, given its unique blend of talent, innovation, and market needs. Furthermore, prioritizing research and development in AI ethics and safety will ensure sustainable progress.\\n\\n## 6. Conclusion\\nThe rise of AI in India presents immense opportunities to transform industries and improve lives. It is imperative for government, industry, and academia to collaborate to unleash the full potential of AI responsibly. As we move forward, fostering a vision for a future driven by responsible AI innovation will be crucial in shaping a prosperous society.\\n\\n## Additional Resources\\nFor those interested in exploring more about AI in India, here are some valuable resources:\\n\\n- [NITI Aayog’s National Strategy on Artificial Intelligence](https://niti.gov.in/writereaddata/files/AI-Strategy-Documents.pdf)\\n- [Reports on AI advancements in India](https://www.mckinsey.com/industries/technology-media-and-telecommunications/our-insights)\\n- Leading organizations: T-Hub, Infosys, Wipro, and emerging startups making waves in AI.\\n\\nStay updated on AI trends and developments by following relevant articles, reports, and research papers that will pave the way for understanding the transformative influence of AI in India.', 'outline': '## Outline for Blog Post: Rise of AI in India\\n\\n### Introduction\\n- Brief overview of AI and its significance globally \\n- Importance of AI for India’s development and economic growth\\n- Thesis statement: The rise of AI in India is transforming various sectors, driving innovation, and enhancing productivity.\\n\\n### 1. Understanding the AI Landscape in India\\n   - Definition and explanation of AI\\n   - Historical context: Early developments in AI in India\\n   - Current state of AI technology and research in India\\n\\n### 2. Key Drivers of AI Adoption in India\\n   - Government initiatives and policies promoting AI (e.g., National AI Strategy)\\n   - Increasing investments in AI startups and ventures\\n   - Collaboration between tech companies and academic institutions \\n   - Growth of digital infrastructure and internet accessibility\\n\\n### 3. AI Applications Across Sectors\\n   - **Healthcare**: AI in diagnostics, drug discovery, and patient management\\n   - **Agriculture**: Precision farming, crop monitoring, and supply chain analysis\\n   - **Finance**: AI in fraud detection, risk assessment, and customer service\\n   - **Education**: Personalized learning, administrative efficiency, and skill development\\n   - **Manufacturing**: Automation, predictive maintenance, and process optimization\\n\\n### 4. Challenges Facing AI Development in India\\n   - Data privacy and security concerns\\n   - Ethical considerations in AI applications\\n   - Skill gap and the need for workforce upskilling\\n   - Infrastructure limitations in rural regions\\n\\n### 5. Future of AI in India\\n   - Expected growth and advancements in AI technologies\\n   - Role of AI in achieving Sustainable Development Goals (SDGs)\\n   - Potential for India to become a global AI hub\\n   - Encouraging research and development in AI ethics and safety\\n\\n### 6. Conclusion\\n- Recap of the transformative potential of AI in India\\n- Call to action for stakeholders: Government, industry, and academia to collaborate\\n- Vision for a future driven by responsible AI innovation in India\\n\\n### Additional Resources\\n- Links to relevant reports, articles, and research papers\\n- List of organizations and companies leading in AI initiatives in India\\n- Suggestions for further reading on AI trends and developments in India', 'rating': 'Based on the content and outline provided, I would rate the blog post \"Rise of AI in India\" as follows:\\n\\n### Overall Rating: 9/10\\n\\n### Strengths:\\n1. **Comprehensive Coverage**: The blog thoroughly addresses the rise of AI in India by discussing its significance, current state, applications across various sectors, and the challenges faced. This coverage provides readers with a well-rounded understanding of the topic.\\n  \\n2. **Clear Structure**: The structured outline enhances readability, with distinct sections that facilitate navigation. Each section builds logically upon the previous one, making it easy to follow.\\n\\n3. **Insight into Applications**: The detailed explanations of AI applications in diverse fields such as healthcare, agriculture, finance, education, and manufacturing are particularly strong. This showcases the transformative potential of AI in real-world scenarios.\\n\\n4. **Government Focus**: Highlighting government initiatives and policies like the National AI Strategy gives credibility to the discussion and shows the proactive steps being taken to promote AI.\\n\\n5. **Future Perspective**: The section on the future of AI in India not only outlines potential growth but also connects AI to broader goals like Sustainable Development Goals (SDGs), emphasizing the social impact of technology.\\n\\n### Areas for Improvement:\\n1. **Data and Examples**: Including statistical data, case studies, or specific examples of successful AI projects in India could strengthen the arguments and provide real-world illustrations of claims made.\\n\\n2. **Visual Elements**: The addition of infographics, charts, or images could enhance engagement and make complex information more digestible.\\n\\n3. **Deeper Analysis of Challenges**: While the challenges are mentioned, a deeper exploration into how these challenges could be overcome (e.g., specific policy recommendations or successful models from other countries) would add depth to the discussion.\\n\\n4. **Calls to Action**: The conclusion could benefit from more specific action items for stakeholders to encourage responsiveness to the content.\\n\\n### Conclusion:\\nOverall, this blog post is informative, well-organized, and clearly articulates the rise of AI in India and its implications. With minor enhancements in examples and visual elements, it could reach a wider audience and engage readers even more effectively.'}\n"
     ]
    }
   ],
   "source": [
    "# run the graph\n",
    "intial_state = {\"title\": \"Rise of AI in India\"}\n",
    "final_state = workflow.invoke(intial_state)\n",
    "\n",
    "print(final_state)"
   ]
  },
  {
   "cell_type": "code",
   "execution_count": 20,
   "id": "4f2a2734",
   "metadata": {},
   "outputs": [
    {
     "name": "stdout",
     "output_type": "stream",
     "text": [
      "Based on the content and outline provided, I would rate the blog post \"Rise of AI in India\" as follows:\n",
      "\n",
      "### Overall Rating: 9/10\n",
      "\n",
      "### Strengths:\n",
      "1. **Comprehensive Coverage**: The blog thoroughly addresses the rise of AI in India by discussing its significance, current state, applications across various sectors, and the challenges faced. This coverage provides readers with a well-rounded understanding of the topic.\n",
      "  \n",
      "2. **Clear Structure**: The structured outline enhances readability, with distinct sections that facilitate navigation. Each section builds logically upon the previous one, making it easy to follow.\n",
      "\n",
      "3. **Insight into Applications**: The detailed explanations of AI applications in diverse fields such as healthcare, agriculture, finance, education, and manufacturing are particularly strong. This showcases the transformative potential of AI in real-world scenarios.\n",
      "\n",
      "4. **Government Focus**: Highlighting government initiatives and policies like the National AI Strategy gives credibility to the discussion and shows the proactive steps being taken to promote AI.\n",
      "\n",
      "5. **Future Perspective**: The section on the future of AI in India not only outlines potential growth but also connects AI to broader goals like Sustainable Development Goals (SDGs), emphasizing the social impact of technology.\n",
      "\n",
      "### Areas for Improvement:\n",
      "1. **Data and Examples**: Including statistical data, case studies, or specific examples of successful AI projects in India could strengthen the arguments and provide real-world illustrations of claims made.\n",
      "\n",
      "2. **Visual Elements**: The addition of infographics, charts, or images could enhance engagement and make complex information more digestible.\n",
      "\n",
      "3. **Deeper Analysis of Challenges**: While the challenges are mentioned, a deeper exploration into how these challenges could be overcome (e.g., specific policy recommendations or successful models from other countries) would add depth to the discussion.\n",
      "\n",
      "4. **Calls to Action**: The conclusion could benefit from more specific action items for stakeholders to encourage responsiveness to the content.\n",
      "\n",
      "### Conclusion:\n",
      "Overall, this blog post is informative, well-organized, and clearly articulates the rise of AI in India and its implications. With minor enhancements in examples and visual elements, it could reach a wider audience and engage readers even more effectively.\n"
     ]
    }
   ],
   "source": [
    "print(final_state['rating'])"
   ]
  },
  {
   "cell_type": "code",
   "execution_count": 9,
   "id": "e1daebd8",
   "metadata": {},
   "outputs": [
    {
     "name": "stdout",
     "output_type": "stream",
     "text": [
      "**Title: Rise of AI in India**\n",
      "\n",
      "**I. Introduction**\n",
      "   - Brief overview of artificial intelligence (AI) and its growing importance globally\n",
      "   - Introduction of the specific focus on India’s AI landscape\n",
      "   - Importance of discussing the rise of AI in India\n",
      "\n",
      "**II. Current State of AI in India**\n",
      "   - Overview of current AI technologies in use (e.g., machine learning, natural language processing)\n",
      "   - Key industries adopting AI (e.g., healthcare, finance, education, agriculture)\n",
      "   - Government initiatives and policies supporting AI development (e.g., National AI Strategy, start-up ecosystems)\n",
      "\n",
      "**III. Factors Contributing to the Rise of AI in India**\n",
      "   - **A. Demographic Advantages**\n",
      "      - Young and tech-savvy population\n",
      "      - Rising number of skilled professionals in STEM fields\n",
      "   - **B. Increasing Internet Penetration**\n",
      "      - Growth in digital infrastructure and internet access\n",
      "      - Impact of mobile technology and affordability\n",
      "   - **C. Government and Private Sector Investment**\n",
      "      - Funding and support for AI startups and research\n",
      "      - Collaboration between government, academia, and industry\n",
      "\n",
      "**IV. Case Studies of Successful AI Implementation**\n",
      "   - **A. Healthcare**\n",
      "      - Use of AI for diagnostics and personalized medicine\n",
      "      - Successful startups using AI for healthcare solutions\n",
      "   - **B. Agriculture**\n",
      "      - Implementation of AI in precision farming and crop yield predictions\n",
      "      - Case studies of AI tools improving farmer livelihoods\n",
      "   - **C. Finance**\n",
      "      - AI in risk assessment and fraud detection\n",
      "      - Innovative fintech startups leveraging AI\n",
      "\n",
      "**V. Challenges Facing the AI Ecosystem in India**\n",
      "   - Ethical considerations and data privacy concerns\n",
      "   - Skill gap and the need for enhanced educational programs\n",
      "   - Infrastructure limitations in rural areas\n",
      "   - Balancing innovation with regulation\n",
      "\n",
      "**VI. The Future of AI in India**\n",
      "   - Predictions on how AI will further transform various sectors\n",
      "   - Potential for AI to contribute to sustainable development\n",
      "   - Role of international partnerships and collaborations\n",
      "\n",
      "**VII. Conclusion**\n",
      "   - Recap of the rise of AI in India and its implications\n",
      "   - Call to action for stakeholders to contribute to a responsible AI ecosystem\n",
      "   - Encouragement for readers to stay informed and engaged with AI developments in India\n",
      "\n",
      "**VIII. Additional Resources**\n",
      "   - Links to articles, reports, and research papers about AI in India\n",
      "   - Suggestions for further reading and follow-up topics on AI advancements\n"
     ]
    }
   ],
   "source": [
    "print(final_state['outline'])"
   ]
  },
  {
   "cell_type": "code",
   "execution_count": 10,
   "id": "c1f8b3fc",
   "metadata": {},
   "outputs": [
    {
     "name": "stdout",
     "output_type": "stream",
     "text": [
      "# Rise of AI in India\n",
      "\n",
      "## I. Introduction\n",
      "\n",
      "Artificial Intelligence (AI) has emerged as one of the most transformative forces in the modern world, revolutionizing industries and reshaping how we live and work. The growing importance of AI is felt globally, with countries racing to harness its potential for economic growth, social welfare, and competitive advantage. Focusing on India’s AI landscape offers a unique perspective, as the nation is making substantial strides in this transformative technology. This blog post delves into the current state of AI in India, the contributing factors to its rise, successful case studies, challenges, and what the future may hold.\n",
      "\n",
      "## II. Current State of AI in India\n",
      "\n",
      "India’s engagement with advanced AI technologies is multifaceted, encompassing machine learning, natural language processing, and robotics. Key industries have promptly adopted these technologies, with healthcare, finance, education, and agriculture leading the charge. \n",
      "\n",
      "The Indian government has recognized this potential and is actively supporting AI development through initiatives such as the National AI Strategy. This strategy aims to position India as a global leader in AI by fostering a vibrant startup ecosystem and encouraging public-private partnerships. With an increasing number of AI startups emerging across the country, India is poised to become a significant player in the global AI market.\n",
      "\n",
      "## III. Factors Contributing to the Rise of AI in India\n",
      "\n",
      "### A. Demographic Advantages\n",
      "\n",
      "One of India’s most significant advantages is its young, tech-savvy population. With over 600 million internet users and a burgeoning workforce in STEM fields, India is well-positioned to drive AI innovation. This demographic is not only quick to adapt to new technologies but also brings fresh perspectives that can foster creativity and groundbreaking solutions in AI.\n",
      "\n",
      "### B. Increasing Internet Penetration\n",
      "\n",
      "The growth in digital infrastructure and internet access has been a game-changer for the adoption of AI. The proliferation of mobile devices and the affordability of data have facilitated the widespread use of AI-powered applications. This trend is evident in various sectors, increasing accessibility to technology for millions of people, including in remote areas.\n",
      "\n",
      "### C. Government and Private Sector Investment\n",
      "\n",
      "Robust funding and support from both government initiatives and private sector investments are essential in building India's AI ecosystem. The collaboration between academia, industry, and government institutions has resulted in innovative programs to nurture AI startups, encouraging research and development that addresses local challenges and global demands.\n",
      "\n",
      "## IV. Case Studies of Successful AI Implementation\n",
      "\n",
      "### A. Healthcare\n",
      "\n",
      "AI applications in healthcare are making remarkable strides. Systems leveraging AI for diagnostics and personalized medication are revolutionizing patient care. Notable startups in this sector, such as Niramai and SigTuple, are using AI technology to enhance disease detection and streamline clinical processes, demonstrating a promising path towards improving healthcare outcomes in the country.\n",
      "\n",
      "### B. Agriculture\n",
      "\n",
      "The agricultural sector is another domain where AI shines. Precision farming techniques, aided by AI systems, enable farmers to optimize crop yields and minimize resource usage. Additionally, startups like AgroStar and CropIn are employing AI tools to provide farmers with actionable insights, contributing to higher productivity and improved livelihoods.\n",
      "\n",
      "### C. Finance\n",
      "\n",
      "The finance industry is increasingly leveraging AI for risk assessment, fraud detection, and customer service automation. Innovative fintech startups like ZipLoan and Razorpay are deploying AI algorithms to offer personalized financial solutions and enhance security measures, addressing the unique needs of the Indian market.\n",
      "\n",
      "## V. Challenges Facing the AI Ecosystem in India\n",
      "\n",
      "Despite its promising trajectory, India faces several challenges in its AI journey. Ethical considerations and data privacy concerns are paramount, urging the need for robust legal frameworks to safeguard personal information. Additionally, there is a significant skill gap that necessitates enhanced educational programs to equip the workforce with relevant competencies.\n",
      "\n",
      "Infrastructure limitations, especially in rural areas, hinder access to cost-effective technologies. Lastly, balancing innovation with regulation is crucial to foster a responsible AI ecosystem that nurtures creativity without compromising public welfare.\n",
      "\n",
      "## VI. The Future of AI in India\n",
      "\n",
      "The future of AI in India looks bright as its potential continues to unfold. Predictions indicate further transformations across sectors such as education, transportation, and urban planning. AI can significantly contribute to sustainable development goals by optimizing resource use and generating innovative solutions for pressing societal issues.\n",
      "\n",
      "International partnerships and collaborations will play a fundamental role in India’s AI narrative, facilitating knowledge exchange and technological advancement that benefits the global community.\n",
      "\n",
      "## VII. Conclusion\n",
      "\n",
      "In summary, the rise of AI in India is not just a technological evolution but a multifaceted transformation impacting various sectors and society at large. As stakeholders—including governments, businesses, and educational institutions—work together to build a robust AI ecosystem, it is vital to ensure ethical practices and inclusivity. We encourage our readers to stay engaged, informed, and proactive in understanding and contributing to the advancements in AI in India.\n",
      "\n",
      "## VIII. Additional Resources\n",
      "\n",
      "For those looking to dive deeper into the realm of AI in India, here are some resources:\n",
      "\n",
      "- [NITI Aayog’s National Strategy for Artificial Intelligence](https://niti.gov.in/writereaddata/files/Artificial-Intelligence-Strategy.pdf)\n",
      "- [AI in India: The Road Ahead](https://www.mckinsey.com/featured-insights/ai-in-india)\n",
      "- [The Future of AI in Healthcare](https://www.healthcareitnews.com/news/future-ai-healthcare)\n",
      "- [Reports on AI startups in India](https://inc42.com/startups/ai-in-india-report/)\n",
      "\n",
      "As we continue to navigate this exciting frontier, staying informed about developments and discussions surrounding AI advancements is crucial. Join us on this journey towards a smarter and more AI-driven future!\n"
     ]
    }
   ],
   "source": [
    "print(final_state['content'])"
   ]
  },
  {
   "cell_type": "code",
   "execution_count": 11,
   "id": "cfc8fcc9",
   "metadata": {},
   "outputs": [
    {
     "name": "stdout",
     "output_type": "stream",
     "text": [
      "Rise of AI in India\n"
     ]
    }
   ],
   "source": [
    "print(final_state['title'])"
   ]
  },
  {
   "cell_type": "code",
   "execution_count": 21,
   "id": "7f37f728",
   "metadata": {},
   "outputs": [
    {
     "data": {
      "image/png": "[encoded data removed]",
      "text/plain": [
       "<IPython.core.display.Image object>"
      ]
     },
     "execution_count": 21,
     "metadata": {},
     "output_type": "execute_result"
    }
   ],
   "source": [
    "from IPython.display import Image\n",
    "Image(workflow.get_graph().draw_mermaid_png())"
   ]
  }
 ],
 "metadata": {
  "kernelspec": {
   "display_name": "myenv",
   "language": "python",
   "name": "python3"
  },
  "language_info": {
   "codemirror_mode": {
    "name": "ipython",
    "version": 3
   },
   "file_extension": ".py",
   "mimetype": "text/x-python",
   "name": "python",
   "nbconvert_exporter": "python",
   "pygments_lexer": "ipython3",
   "version": "3.13.5"
  }
 },
 "nbformat": 4,
 "nbformat_minor": 5
}
