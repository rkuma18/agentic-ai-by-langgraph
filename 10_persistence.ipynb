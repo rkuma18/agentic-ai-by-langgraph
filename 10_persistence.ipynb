{
 "cells": [
  {
   "cell_type": "code",
   "execution_count": 15,
   "id": "975b6d4e",
   "metadata": {},
   "outputs": [],
   "source": [
    "from langgraph.graph import StateGraph, START, END\n",
    "from typing import TypedDict\n",
    "from langchain_openai import ChatOpenAI\n",
    "from dotenv import load_dotenv\n",
    "from langgraph.checkpoint.memory import InMemorySaver\n",
    "import time"
   ]
  },
  {
   "cell_type": "code",
   "execution_count": 2,
   "id": "37fbaba3",
   "metadata": {},
   "outputs": [],
   "source": [
    "load_dotenv()\n",
    "\n",
    "llm = ChatOpenAI()"
   ]
  },
  {
   "cell_type": "code",
   "execution_count": 3,
   "id": "6faaae44",
   "metadata": {},
   "outputs": [],
   "source": [
    "class JokeState(TypedDict):\n",
    "\n",
    "    topic: str\n",
    "    joke: str\n",
    "    explanation: str"
   ]
  },
  {
   "cell_type": "code",
   "execution_count": 4,
   "id": "bb95324e",
   "metadata": {},
   "outputs": [],
   "source": [
    "def generate_joke(state: JokeState):\n",
    "\n",
    "    prompt = f'generate a joke on the topic {state[\"topic\"]}'\n",
    "    response = llm.invoke(prompt).content\n",
    "\n",
    "    return {'joke': response}"
   ]
  },
  {
   "cell_type": "code",
   "execution_count": 5,
   "id": "0fac832f",
   "metadata": {},
   "outputs": [],
   "source": [
    "def generate_explanation(state: JokeState):\n",
    "\n",
    "    prompt = f'write an explanation for the joke - {state[\"joke\"]}'\n",
    "    response = llm.invoke(prompt).content\n",
    "\n",
    "    return {'explanation': response}"
   ]
  },
  {
   "cell_type": "code",
   "execution_count": 6,
   "id": "4c8ab6a9",
   "metadata": {},
   "outputs": [],
   "source": [
    "graph = StateGraph(JokeState)\n",
    "\n",
    "graph.add_node('generate_joke', generate_joke)\n",
    "graph.add_node('generate_explanation', generate_explanation)\n",
    "\n",
    "graph.add_edge(START, 'generate_joke')\n",
    "graph.add_edge('generate_joke', 'generate_explanation')\n",
    "graph.add_edge('generate_explanation', END)\n",
    "\n",
    "checkpointer = InMemorySaver()\n",
    "\n",
    "workflow = graph.compile(checkpointer=checkpointer)"
   ]
  },
  {
   "cell_type": "code",
   "execution_count": 7,
   "id": "17e0d3f9",
   "metadata": {},
   "outputs": [
    {
     "data": {
      "text/plain": [
       "{'topic': 'GenZ',\n",
       " 'joke': 'Why did GenZ refuse to play hide and seek with Millennials? Because they knew the Millennials would just snapchat their hiding spots!',\n",
       " 'explanation': 'This joke plays on the stereotype that Millennials are obsessed with social media, specifically Snapchat. GenZ refuses to play hide and seek with Millennials because they know that Millennials would most likely just snap their hiding spots instead of actually playing the game. This implies that Millennials prioritize documenting their experiences on social media over actually engaging in real-life activities.'}"
      ]
     },
     "execution_count": 7,
     "metadata": {},
     "output_type": "execute_result"
    }
   ],
   "source": [
    "config1 = {\"configurable\": {\"thread_id\": \"1\"}}\n",
    "workflow.invoke({'topic':'GenZ'}, config=config1)"
   ]
  },
  {
   "cell_type": "code",
   "execution_count": 8,
   "id": "adf95b79",
   "metadata": {},
   "outputs": [
    {
     "data": {
      "text/plain": [
       "StateSnapshot(values={'topic': 'GenZ', 'joke': 'Why did GenZ refuse to play hide and seek with Millennials? Because they knew the Millennials would just snapchat their hiding spots!', 'explanation': 'This joke plays on the stereotype that Millennials are obsessed with social media, specifically Snapchat. GenZ refuses to play hide and seek with Millennials because they know that Millennials would most likely just snap their hiding spots instead of actually playing the game. This implies that Millennials prioritize documenting their experiences on social media over actually engaging in real-life activities.'}, next=(), config={'configurable': {'thread_id': '1', 'checkpoint_ns': '', 'checkpoint_id': '1f0741da-efa8-6b38-8002-8ee1790f9eea'}}, metadata={'source': 'loop', 'step': 2, 'parents': {}, 'thread_id': '1'}, created_at='2025-08-08T06:05:28.701410+00:00', parent_config={'configurable': {'thread_id': '1', 'checkpoint_ns': '', 'checkpoint_id': '1f0741da-dcf2-68e0-8001-a6410f5cda56'}}, tasks=(), interrupts=())"
      ]
     },
     "execution_count": 8,
     "metadata": {},
     "output_type": "execute_result"
    }
   ],
   "source": [
    "workflow.get_state(config1)"
   ]
  },
  {
   "cell_type": "code",
   "execution_count": 9,
   "id": "b4212442",
   "metadata": {},
   "outputs": [
    {
     "data": {
      "text/plain": [
       "[StateSnapshot(values={'topic': 'GenZ', 'joke': 'Why did GenZ refuse to play hide and seek with Millennials? Because they knew the Millennials would just snapchat their hiding spots!', 'explanation': 'This joke plays on the stereotype that Millennials are obsessed with social media, specifically Snapchat. GenZ refuses to play hide and seek with Millennials because they know that Millennials would most likely just snap their hiding spots instead of actually playing the game. This implies that Millennials prioritize documenting their experiences on social media over actually engaging in real-life activities.'}, next=(), config={'configurable': {'thread_id': '1', 'checkpoint_ns': '', 'checkpoint_id': '1f0741da-efa8-6b38-8002-8ee1790f9eea'}}, metadata={'source': 'loop', 'step': 2, 'parents': {}, 'thread_id': '1'}, created_at='2025-08-08T06:05:28.701410+00:00', parent_config={'configurable': {'thread_id': '1', 'checkpoint_ns': '', 'checkpoint_id': '1f0741da-dcf2-68e0-8001-a6410f5cda56'}}, tasks=(), interrupts=()),\n",
       " StateSnapshot(values={'topic': 'GenZ', 'joke': 'Why did GenZ refuse to play hide and seek with Millennials? Because they knew the Millennials would just snapchat their hiding spots!'}, next=('generate_explanation',), config={'configurable': {'thread_id': '1', 'checkpoint_ns': '', 'checkpoint_id': '1f0741da-dcf2-68e0-8001-a6410f5cda56'}}, metadata={'source': 'loop', 'step': 1, 'parents': {}, 'thread_id': '1'}, created_at='2025-08-08T06:05:26.739363+00:00', parent_config={'configurable': {'thread_id': '1', 'checkpoint_ns': '', 'checkpoint_id': '1f0741da-ce86-6090-8000-83066a8e6a05'}}, tasks=(PregelTask(id='49613b6c-621e-3124-bc3e-6665c3abb47e', name='generate_explanation', path=('__pregel_pull', 'generate_explanation'), error=None, interrupts=(), state=None, result={'explanation': 'This joke plays on the stereotype that Millennials are obsessed with social media, specifically Snapchat. GenZ refuses to play hide and seek with Millennials because they know that Millennials would most likely just snap their hiding spots instead of actually playing the game. This implies that Millennials prioritize documenting their experiences on social media over actually engaging in real-life activities.'}),), interrupts=()),\n",
       " StateSnapshot(values={'topic': 'GenZ'}, next=('generate_joke',), config={'configurable': {'thread_id': '1', 'checkpoint_ns': '', 'checkpoint_id': '1f0741da-ce86-6090-8000-83066a8e6a05'}}, metadata={'source': 'loop', 'step': 0, 'parents': {}, 'thread_id': '1'}, created_at='2025-08-08T06:05:25.226915+00:00', parent_config={'configurable': {'thread_id': '1', 'checkpoint_ns': '', 'checkpoint_id': '1f0741da-ce84-647a-bfff-61ece6286a6f'}}, tasks=(PregelTask(id='146bdb80-81b0-1ef1-2d8a-4ede9cbf3b21', name='generate_joke', path=('__pregel_pull', 'generate_joke'), error=None, interrupts=(), state=None, result={'joke': 'Why did GenZ refuse to play hide and seek with Millennials? Because they knew the Millennials would just snapchat their hiding spots!'}),), interrupts=()),\n",
       " StateSnapshot(values={}, next=('__start__',), config={'configurable': {'thread_id': '1', 'checkpoint_ns': '', 'checkpoint_id': '1f0741da-ce84-647a-bfff-61ece6286a6f'}}, metadata={'source': 'input', 'step': -1, 'parents': {}, 'thread_id': '1'}, created_at='2025-08-08T06:05:25.226195+00:00', parent_config=None, tasks=(PregelTask(id='6fbad3d3-3647-c8c6-9863-4f9664d53ca0', name='__start__', path=('__pregel_pull', '__start__'), error=None, interrupts=(), state=None, result={'topic': 'GenZ'}),), interrupts=())]"
      ]
     },
     "execution_count": 9,
     "metadata": {},
     "output_type": "execute_result"
    }
   ],
   "source": [
    "list(workflow.get_state_history(config1))"
   ]
  },
  {
   "cell_type": "code",
   "execution_count": 10,
   "id": "0d8fd610",
   "metadata": {},
   "outputs": [
    {
     "data": {
      "text/plain": [
       "{'topic': 'Gen alpha',\n",
       " 'joke': 'Why did Gen Alpha bring a ladder to the playground? \\nBecause they heard the slide was Gen Beta testing!',\n",
       " 'explanation': 'This joke plays on the idea of different generations, with Gen Alpha being the youngest generation and Gen Beta being slightly older. The joke suggests that Gen Alpha brought a ladder to the playground because they heard the slide was \"Gen Beta testing,\" a play on words that means the slide was being tested by the older generation. It\\'s a light-hearted play on the idea of testing and generations, and the absurdity of a child bringing a ladder to a playground for that reason.'}"
      ]
     },
     "execution_count": 10,
     "metadata": {},
     "output_type": "execute_result"
    }
   ],
   "source": [
    "config2 = {\"configurable\": {\"thread_id\": \"2\"}}\n",
    "workflow.invoke({'topic':'Gen alpha'}, config=config2)"
   ]
  },
  {
   "cell_type": "code",
   "execution_count": 13,
   "id": "7fd564af",
   "metadata": {},
   "outputs": [
    {
     "data": {
      "text/plain": [
       "StateSnapshot(values={'topic': 'Gen alpha', 'joke': 'Why did Gen Alpha bring a ladder to the playground? \\nBecause they heard the slide was Gen Beta testing!', 'explanation': 'This joke plays on the idea of different generations, with Gen Alpha being the youngest generation and Gen Beta being slightly older. The joke suggests that Gen Alpha brought a ladder to the playground because they heard the slide was \"Gen Beta testing,\" a play on words that means the slide was being tested by the older generation. It\\'s a light-hearted play on the idea of testing and generations, and the absurdity of a child bringing a ladder to a playground for that reason.'}, next=(), config={'configurable': {'thread_id': '2', 'checkpoint_ns': '', 'checkpoint_id': '1f0741e5-381b-6596-8002-3fdabe73273b'}}, metadata={'source': 'loop', 'step': 2, 'parents': {}, 'thread_id': '2'}, created_at='2025-08-08T06:10:04.733575+00:00', parent_config={'configurable': {'thread_id': '2', 'checkpoint_ns': '', 'checkpoint_id': '1f0741e5-2395-6c8e-8001-bbcfd2caedc2'}}, tasks=(), interrupts=())"
      ]
     },
     "execution_count": 13,
     "metadata": {},
     "output_type": "execute_result"
    }
   ],
   "source": [
    "workflow.get_state(config2)"
   ]
  },
  {
   "cell_type": "code",
   "execution_count": 14,
   "id": "b8235991",
   "metadata": {},
   "outputs": [
    {
     "data": {
      "text/plain": [
       "[StateSnapshot(values={'topic': 'Gen alpha', 'joke': 'Why did Gen Alpha bring a ladder to the playground? \\nBecause they heard the slide was Gen Beta testing!', 'explanation': 'This joke plays on the idea of different generations, with Gen Alpha being the youngest generation and Gen Beta being slightly older. The joke suggests that Gen Alpha brought a ladder to the playground because they heard the slide was \"Gen Beta testing,\" a play on words that means the slide was being tested by the older generation. It\\'s a light-hearted play on the idea of testing and generations, and the absurdity of a child bringing a ladder to a playground for that reason.'}, next=(), config={'configurable': {'thread_id': '2', 'checkpoint_ns': '', 'checkpoint_id': '1f0741e5-381b-6596-8002-3fdabe73273b'}}, metadata={'source': 'loop', 'step': 2, 'parents': {}, 'thread_id': '2'}, created_at='2025-08-08T06:10:04.733575+00:00', parent_config={'configurable': {'thread_id': '2', 'checkpoint_ns': '', 'checkpoint_id': '1f0741e5-2395-6c8e-8001-bbcfd2caedc2'}}, tasks=(), interrupts=()),\n",
       " StateSnapshot(values={'topic': 'Gen alpha', 'joke': 'Why did Gen Alpha bring a ladder to the playground? \\nBecause they heard the slide was Gen Beta testing!'}, next=('generate_explanation',), config={'configurable': {'thread_id': '2', 'checkpoint_ns': '', 'checkpoint_id': '1f0741e5-2395-6c8e-8001-bbcfd2caedc2'}}, metadata={'source': 'loop', 'step': 1, 'parents': {}, 'thread_id': '2'}, created_at='2025-08-08T06:10:02.581716+00:00', parent_config={'configurable': {'thread_id': '2', 'checkpoint_ns': '', 'checkpoint_id': '1f0741e5-1b1b-646e-8000-d17ba1b6c2cc'}}, tasks=(PregelTask(id='1a886dc7-4f71-a623-130e-a1221d579ce1', name='generate_explanation', path=('__pregel_pull', 'generate_explanation'), error=None, interrupts=(), state=None, result={'explanation': 'This joke plays on the idea of different generations, with Gen Alpha being the youngest generation and Gen Beta being slightly older. The joke suggests that Gen Alpha brought a ladder to the playground because they heard the slide was \"Gen Beta testing,\" a play on words that means the slide was being tested by the older generation. It\\'s a light-hearted play on the idea of testing and generations, and the absurdity of a child bringing a ladder to a playground for that reason.'}),), interrupts=()),\n",
       " StateSnapshot(values={'topic': 'Gen alpha'}, next=('generate_joke',), config={'configurable': {'thread_id': '2', 'checkpoint_ns': '', 'checkpoint_id': '1f0741e5-1b1b-646e-8000-d17ba1b6c2cc'}}, metadata={'source': 'loop', 'step': 0, 'parents': {}, 'thread_id': '2'}, created_at='2025-08-08T06:10:01.692665+00:00', parent_config={'configurable': {'thread_id': '2', 'checkpoint_ns': '', 'checkpoint_id': '1f0741e5-1b19-65d8-bfff-62210d19ab5f'}}, tasks=(PregelTask(id='defc08f7-8d4f-a1ad-47eb-d42eaea43929', name='generate_joke', path=('__pregel_pull', 'generate_joke'), error=None, interrupts=(), state=None, result={'joke': 'Why did Gen Alpha bring a ladder to the playground? \\nBecause they heard the slide was Gen Beta testing!'}),), interrupts=()),\n",
       " StateSnapshot(values={}, next=('__start__',), config={'configurable': {'thread_id': '2', 'checkpoint_ns': '', 'checkpoint_id': '1f0741e5-1b19-65d8-bfff-62210d19ab5f'}}, metadata={'source': 'input', 'step': -1, 'parents': {}, 'thread_id': '2'}, created_at='2025-08-08T06:10:01.691893+00:00', parent_config=None, tasks=(PregelTask(id='a47c00b4-c6ee-8b64-c9a8-4a7cc55a1b8a', name='__start__', path=('__pregel_pull', '__start__'), error=None, interrupts=(), state=None, result={'topic': 'Gen alpha'}),), interrupts=())]"
      ]
     },
     "execution_count": 14,
     "metadata": {},
     "output_type": "execute_result"
    }
   ],
   "source": [
    "list(workflow.get_state_history(config2))"
   ]
  },
  {
   "cell_type": "markdown",
   "id": "bd872666",
   "metadata": {},
   "source": [
    "Time Travel"
   ]
  },
  {
   "cell_type": "code",
   "execution_count": 26,
   "id": "b0d60b18",
   "metadata": {},
   "outputs": [
    {
     "data": {
      "text/plain": [
       "StateSnapshot(values={'topic': 'GenZ'}, next=('generate_joke',), config={'configurable': {'thread_id': '1', 'checkpoint_id': '1f0741da-ce86-6090-8000-83066a8e6a05'}}, metadata={'source': 'loop', 'step': 0, 'parents': {}, 'thread_id': '1'}, created_at='2025-08-08T06:05:25.226915+00:00', parent_config={'configurable': {'thread_id': '1', 'checkpoint_ns': '', 'checkpoint_id': '1f0741da-ce84-647a-bfff-61ece6286a6f'}}, tasks=(PregelTask(id='146bdb80-81b0-1ef1-2d8a-4ede9cbf3b21', name='generate_joke', path=('__pregel_pull', 'generate_joke'), error=None, interrupts=(), state=None, result={'joke': 'Why did GenZ refuse to play hide and seek with Millennials? Because they knew the Millennials would just snapchat their hiding spots!'}),), interrupts=())"
      ]
     },
     "execution_count": 26,
     "metadata": {},
     "output_type": "execute_result"
    }
   ],
   "source": [
    "workflow.get_state({\"configurable\": {\"thread_id\": \"1\", \"checkpoint_id\": \"1f0741da-ce86-6090-8000-83066a8e6a05\"}})"
   ]
  },
  {
   "cell_type": "code",
   "execution_count": 27,
   "id": "59aa21a3",
   "metadata": {},
   "outputs": [
    {
     "data": {
      "text/plain": [
       "{'topic': 'GenZ',\n",
       " 'joke': 'Why did the Gen Z-er bring a ladder to the bar? \\nBecause they heard the drinks were on a high shelf!',\n",
       " 'explanation': 'This joke is playing on the stereotype that members of Generation Z, known for their youthfulness and love of technology, may not be old enough to drink legally. By bringing a ladder to the bar, they are trying to humorously suggest that they need to physically reach up high to get to the drinks, as if they are too short or too young to access them easily. The punchline reveals that the reason for bringing the ladder is simply to reach the drinks on the high shelf, rather than for any other purpose.'}"
      ]
     },
     "execution_count": 27,
     "metadata": {},
     "output_type": "execute_result"
    }
   ],
   "source": [
    "workflow.invoke(None, {\"configurable\": {\"thread_id\": \"1\", \"checkpoint_id\": \"1f0741da-ce86-6090-8000-83066a8e6a05\"}})"
   ]
  },
  {
   "cell_type": "code",
   "execution_count": 28,
   "id": "4b20af15",
   "metadata": {},
   "outputs": [
    {
     "data": {
      "text/plain": [
       "[StateSnapshot(values={'topic': 'GenZ', 'joke': 'Why did the Gen Z-er bring a ladder to the bar? \\nBecause they heard the drinks were on a high shelf!', 'explanation': 'This joke is playing on the stereotype that members of Generation Z, known for their youthfulness and love of technology, may not be old enough to drink legally. By bringing a ladder to the bar, they are trying to humorously suggest that they need to physically reach up high to get to the drinks, as if they are too short or too young to access them easily. The punchline reveals that the reason for bringing the ladder is simply to reach the drinks on the high shelf, rather than for any other purpose.'}, next=(), config={'configurable': {'thread_id': '1', 'checkpoint_ns': '', 'checkpoint_id': '1f074216-3519-6632-8002-1de46f59be05'}}, metadata={'source': 'loop', 'step': 2, 'parents': {}, 'thread_id': '1'}, created_at='2025-08-08T06:31:59.751916+00:00', parent_config={'configurable': {'thread_id': '1', 'checkpoint_ns': '', 'checkpoint_id': '1f074216-122a-66ee-8001-fabbaa2bd9c7'}}, tasks=(), interrupts=()),\n",
       " StateSnapshot(values={'topic': 'GenZ', 'joke': 'Why did the Gen Z-er bring a ladder to the bar? \\nBecause they heard the drinks were on a high shelf!'}, next=('generate_explanation',), config={'configurable': {'thread_id': '1', 'checkpoint_ns': '', 'checkpoint_id': '1f074216-122a-66ee-8001-fabbaa2bd9c7'}}, metadata={'source': 'loop', 'step': 1, 'parents': {}, 'thread_id': '1'}, created_at='2025-08-08T06:31:56.088877+00:00', parent_config={'configurable': {'thread_id': '1', 'checkpoint_ns': '', 'checkpoint_id': '1f0741da-ce86-6090-8000-83066a8e6a05'}}, tasks=(PregelTask(id='0b1f6bcc-529f-fe4d-fb03-5efc4fd65ce4', name='generate_explanation', path=('__pregel_pull', 'generate_explanation'), error=None, interrupts=(), state=None, result={'explanation': 'This joke is playing on the stereotype that members of Generation Z, known for their youthfulness and love of technology, may not be old enough to drink legally. By bringing a ladder to the bar, they are trying to humorously suggest that they need to physically reach up high to get to the drinks, as if they are too short or too young to access them easily. The punchline reveals that the reason for bringing the ladder is simply to reach the drinks on the high shelf, rather than for any other purpose.'}),), interrupts=()),\n",
       " StateSnapshot(values={'topic': 'GenZ', 'joke': 'Why did GenZ refuse to play hide and seek with Millennials? Because they knew the Millennials would just snapchat their hiding spots!', 'explanation': 'This joke plays on the stereotype that Millennials are obsessed with social media, specifically Snapchat. GenZ refuses to play hide and seek with Millennials because they know that Millennials would most likely just snap their hiding spots instead of actually playing the game. This implies that Millennials prioritize documenting their experiences on social media over actually engaging in real-life activities.'}, next=(), config={'configurable': {'thread_id': '1', 'checkpoint_ns': '', 'checkpoint_id': '1f0741da-efa8-6b38-8002-8ee1790f9eea'}}, metadata={'source': 'loop', 'step': 2, 'parents': {}, 'thread_id': '1'}, created_at='2025-08-08T06:05:28.701410+00:00', parent_config={'configurable': {'thread_id': '1', 'checkpoint_ns': '', 'checkpoint_id': '1f0741da-dcf2-68e0-8001-a6410f5cda56'}}, tasks=(), interrupts=()),\n",
       " StateSnapshot(values={'topic': 'GenZ', 'joke': 'Why did GenZ refuse to play hide and seek with Millennials? Because they knew the Millennials would just snapchat their hiding spots!'}, next=('generate_explanation',), config={'configurable': {'thread_id': '1', 'checkpoint_ns': '', 'checkpoint_id': '1f0741da-dcf2-68e0-8001-a6410f5cda56'}}, metadata={'source': 'loop', 'step': 1, 'parents': {}, 'thread_id': '1'}, created_at='2025-08-08T06:05:26.739363+00:00', parent_config={'configurable': {'thread_id': '1', 'checkpoint_ns': '', 'checkpoint_id': '1f0741da-ce86-6090-8000-83066a8e6a05'}}, tasks=(PregelTask(id='49613b6c-621e-3124-bc3e-6665c3abb47e', name='generate_explanation', path=('__pregel_pull', 'generate_explanation'), error=None, interrupts=(), state=None, result={'explanation': 'This joke plays on the stereotype that Millennials are obsessed with social media, specifically Snapchat. GenZ refuses to play hide and seek with Millennials because they know that Millennials would most likely just snap their hiding spots instead of actually playing the game. This implies that Millennials prioritize documenting their experiences on social media over actually engaging in real-life activities.'}),), interrupts=()),\n",
       " StateSnapshot(values={'topic': 'GenZ'}, next=('generate_joke',), config={'configurable': {'thread_id': '1', 'checkpoint_ns': '', 'checkpoint_id': '1f0741da-ce86-6090-8000-83066a8e6a05'}}, metadata={'source': 'loop', 'step': 0, 'parents': {}, 'thread_id': '1'}, created_at='2025-08-08T06:05:25.226915+00:00', parent_config={'configurable': {'thread_id': '1', 'checkpoint_ns': '', 'checkpoint_id': '1f0741da-ce84-647a-bfff-61ece6286a6f'}}, tasks=(PregelTask(id='146bdb80-81b0-1ef1-2d8a-4ede9cbf3b21', name='generate_joke', path=('__pregel_pull', 'generate_joke'), error=None, interrupts=(), state=None, result={'joke': 'Why did GenZ refuse to play hide and seek with Millennials? Because they knew the Millennials would just snapchat their hiding spots!'}),), interrupts=()),\n",
       " StateSnapshot(values={}, next=('__start__',), config={'configurable': {'thread_id': '1', 'checkpoint_ns': '', 'checkpoint_id': '1f0741da-ce84-647a-bfff-61ece6286a6f'}}, metadata={'source': 'input', 'step': -1, 'parents': {}, 'thread_id': '1'}, created_at='2025-08-08T06:05:25.226195+00:00', parent_config=None, tasks=(PregelTask(id='6fbad3d3-3647-c8c6-9863-4f9664d53ca0', name='__start__', path=('__pregel_pull', '__start__'), error=None, interrupts=(), state=None, result={'topic': 'GenZ'}),), interrupts=())]"
      ]
     },
     "execution_count": 28,
     "metadata": {},
     "output_type": "execute_result"
    }
   ],
   "source": [
    "list(workflow.get_state_history(config1))"
   ]
  },
  {
   "cell_type": "markdown",
   "id": "5ccdfbb3",
   "metadata": {},
   "source": [
    "Updating State"
   ]
  },
  {
   "cell_type": "code",
   "execution_count": 32,
   "id": "ec9c3922",
   "metadata": {},
   "outputs": [
    {
     "data": {
      "text/plain": [
       "{'configurable': {'thread_id': '1',\n",
       "  'checkpoint_ns': '',\n",
       "  'checkpoint_id': '1f074222-440c-6818-8001-a99beec67888'}}"
      ]
     },
     "execution_count": 32,
     "metadata": {},
     "output_type": "execute_result"
    }
   ],
   "source": [
    "workflow.update_state({\"configurable\": {\"thread_id\": \"1\", \"checkpoint_id\": \"1f0741da-ce86-6090-8000-83066a8e6a05\", \"checkpoint_ns\": \"\"}}, {'topic':'Millennials'})"
   ]
  },
  {
   "cell_type": "code",
   "execution_count": 30,
   "id": "da18b86e",
   "metadata": {},
   "outputs": [
    {
     "data": {
      "text/plain": [
       "[StateSnapshot(values={'topic': 'Millennials'}, next=('generate_joke',), config={'configurable': {'thread_id': '1', 'checkpoint_ns': '', 'checkpoint_id': '1f07421d-4f44-6474-8001-e464366546a1'}}, metadata={'source': 'update', 'step': 1, 'parents': {}, 'thread_id': '1'}, created_at='2025-08-08T06:35:10.400616+00:00', parent_config={'configurable': {'thread_id': '1', 'checkpoint_ns': '', 'checkpoint_id': '1f0741da-ce86-6090-8000-83066a8e6a05'}}, tasks=(PregelTask(id='9003fe0f-116d-6bc2-48e1-a830d46ef53d', name='generate_joke', path=('__pregel_pull', 'generate_joke'), error=None, interrupts=(), state=None, result=None),), interrupts=()),\n",
       " StateSnapshot(values={'topic': 'GenZ', 'joke': 'Why did the Gen Z-er bring a ladder to the bar? \\nBecause they heard the drinks were on a high shelf!', 'explanation': 'This joke is playing on the stereotype that members of Generation Z, known for their youthfulness and love of technology, may not be old enough to drink legally. By bringing a ladder to the bar, they are trying to humorously suggest that they need to physically reach up high to get to the drinks, as if they are too short or too young to access them easily. The punchline reveals that the reason for bringing the ladder is simply to reach the drinks on the high shelf, rather than for any other purpose.'}, next=(), config={'configurable': {'thread_id': '1', 'checkpoint_ns': '', 'checkpoint_id': '1f074216-3519-6632-8002-1de46f59be05'}}, metadata={'source': 'loop', 'step': 2, 'parents': {}, 'thread_id': '1'}, created_at='2025-08-08T06:31:59.751916+00:00', parent_config={'configurable': {'thread_id': '1', 'checkpoint_ns': '', 'checkpoint_id': '1f074216-122a-66ee-8001-fabbaa2bd9c7'}}, tasks=(), interrupts=()),\n",
       " StateSnapshot(values={'topic': 'GenZ', 'joke': 'Why did the Gen Z-er bring a ladder to the bar? \\nBecause they heard the drinks were on a high shelf!'}, next=('generate_explanation',), config={'configurable': {'thread_id': '1', 'checkpoint_ns': '', 'checkpoint_id': '1f074216-122a-66ee-8001-fabbaa2bd9c7'}}, metadata={'source': 'loop', 'step': 1, 'parents': {}, 'thread_id': '1'}, created_at='2025-08-08T06:31:56.088877+00:00', parent_config={'configurable': {'thread_id': '1', 'checkpoint_ns': '', 'checkpoint_id': '1f0741da-ce86-6090-8000-83066a8e6a05'}}, tasks=(PregelTask(id='0b1f6bcc-529f-fe4d-fb03-5efc4fd65ce4', name='generate_explanation', path=('__pregel_pull', 'generate_explanation'), error=None, interrupts=(), state=None, result={'explanation': 'This joke is playing on the stereotype that members of Generation Z, known for their youthfulness and love of technology, may not be old enough to drink legally. By bringing a ladder to the bar, they are trying to humorously suggest that they need to physically reach up high to get to the drinks, as if they are too short or too young to access them easily. The punchline reveals that the reason for bringing the ladder is simply to reach the drinks on the high shelf, rather than for any other purpose.'}),), interrupts=()),\n",
       " StateSnapshot(values={'topic': 'GenZ', 'joke': 'Why did GenZ refuse to play hide and seek with Millennials? Because they knew the Millennials would just snapchat their hiding spots!', 'explanation': 'This joke plays on the stereotype that Millennials are obsessed with social media, specifically Snapchat. GenZ refuses to play hide and seek with Millennials because they know that Millennials would most likely just snap their hiding spots instead of actually playing the game. This implies that Millennials prioritize documenting their experiences on social media over actually engaging in real-life activities.'}, next=(), config={'configurable': {'thread_id': '1', 'checkpoint_ns': '', 'checkpoint_id': '1f0741da-efa8-6b38-8002-8ee1790f9eea'}}, metadata={'source': 'loop', 'step': 2, 'parents': {}, 'thread_id': '1'}, created_at='2025-08-08T06:05:28.701410+00:00', parent_config={'configurable': {'thread_id': '1', 'checkpoint_ns': '', 'checkpoint_id': '1f0741da-dcf2-68e0-8001-a6410f5cda56'}}, tasks=(), interrupts=()),\n",
       " StateSnapshot(values={'topic': 'GenZ', 'joke': 'Why did GenZ refuse to play hide and seek with Millennials? Because they knew the Millennials would just snapchat their hiding spots!'}, next=('generate_explanation',), config={'configurable': {'thread_id': '1', 'checkpoint_ns': '', 'checkpoint_id': '1f0741da-dcf2-68e0-8001-a6410f5cda56'}}, metadata={'source': 'loop', 'step': 1, 'parents': {}, 'thread_id': '1'}, created_at='2025-08-08T06:05:26.739363+00:00', parent_config={'configurable': {'thread_id': '1', 'checkpoint_ns': '', 'checkpoint_id': '1f0741da-ce86-6090-8000-83066a8e6a05'}}, tasks=(PregelTask(id='49613b6c-621e-3124-bc3e-6665c3abb47e', name='generate_explanation', path=('__pregel_pull', 'generate_explanation'), error=None, interrupts=(), state=None, result={'explanation': 'This joke plays on the stereotype that Millennials are obsessed with social media, specifically Snapchat. GenZ refuses to play hide and seek with Millennials because they know that Millennials would most likely just snap their hiding spots instead of actually playing the game. This implies that Millennials prioritize documenting their experiences on social media over actually engaging in real-life activities.'}),), interrupts=()),\n",
       " StateSnapshot(values={'topic': 'GenZ'}, next=('generate_joke',), config={'configurable': {'thread_id': '1', 'checkpoint_ns': '', 'checkpoint_id': '1f0741da-ce86-6090-8000-83066a8e6a05'}}, metadata={'source': 'loop', 'step': 0, 'parents': {}, 'thread_id': '1'}, created_at='2025-08-08T06:05:25.226915+00:00', parent_config={'configurable': {'thread_id': '1', 'checkpoint_ns': '', 'checkpoint_id': '1f0741da-ce84-647a-bfff-61ece6286a6f'}}, tasks=(PregelTask(id='146bdb80-81b0-1ef1-2d8a-4ede9cbf3b21', name='generate_joke', path=('__pregel_pull', 'generate_joke'), error=None, interrupts=(), state=None, result={'joke': 'Why did GenZ refuse to play hide and seek with Millennials? Because they knew the Millennials would just snapchat their hiding spots!'}),), interrupts=()),\n",
       " StateSnapshot(values={}, next=('__start__',), config={'configurable': {'thread_id': '1', 'checkpoint_ns': '', 'checkpoint_id': '1f0741da-ce84-647a-bfff-61ece6286a6f'}}, metadata={'source': 'input', 'step': -1, 'parents': {}, 'thread_id': '1'}, created_at='2025-08-08T06:05:25.226195+00:00', parent_config=None, tasks=(PregelTask(id='6fbad3d3-3647-c8c6-9863-4f9664d53ca0', name='__start__', path=('__pregel_pull', '__start__'), error=None, interrupts=(), state=None, result={'topic': 'GenZ'}),), interrupts=())]"
      ]
     },
     "execution_count": 30,
     "metadata": {},
     "output_type": "execute_result"
    }
   ],
   "source": [
    "list(workflow.get_state_history(config1))"
   ]
  },
  {
   "cell_type": "code",
   "execution_count": 33,
   "id": "5de8f2a2",
   "metadata": {},
   "outputs": [
    {
     "data": {
      "text/plain": [
       "{'topic': 'Millennials',\n",
       " 'joke': 'Why did the Millennial always bring a ladder to work?\\n\\nBecause they heard the only way to climb the corporate ladder is by literally bringing a ladder!',\n",
       " 'explanation': 'This joke is poking fun at the stereotype that Millennials are ambitious and eager to climb the corporate ladder quickly. The punchline plays on the idiom \"climbing the corporate ladder,\" which means advancing in a company or organization. By taking the saying literally and bringing a ladder to work, the Millennial in the joke is humorously demonstrating their determination to succeed in their career. It highlights the idea that Millennials are willing to go to extreme lengths or take unconventional routes to achieve their goals.'}"
      ]
     },
     "execution_count": 33,
     "metadata": {},
     "output_type": "execute_result"
    }
   ],
   "source": [
    "workflow.invoke(None, {\"configurable\": {\"thread_id\": \"1\", \"checkpoint_id\": \"1f074222-440c-6818-8001-a99beec67888\"}})"
   ]
  },
  {
   "cell_type": "code",
   "execution_count": 34,
   "id": "1cdc95f6",
   "metadata": {},
   "outputs": [
    {
     "data": {
      "text/plain": [
       "[StateSnapshot(values={'topic': 'Millennials', 'joke': 'Why did the Millennial always bring a ladder to work?\\n\\nBecause they heard the only way to climb the corporate ladder is by literally bringing a ladder!', 'explanation': 'This joke is poking fun at the stereotype that Millennials are ambitious and eager to climb the corporate ladder quickly. The punchline plays on the idiom \"climbing the corporate ladder,\" which means advancing in a company or organization. By taking the saying literally and bringing a ladder to work, the Millennial in the joke is humorously demonstrating their determination to succeed in their career. It highlights the idea that Millennials are willing to go to extreme lengths or take unconventional routes to achieve their goals.'}, next=(), config={'configurable': {'thread_id': '1', 'checkpoint_ns': '', 'checkpoint_id': '1f074222-e49d-6566-8003-4e1d2500aeb6'}}, metadata={'source': 'loop', 'step': 3, 'parents': {}, 'thread_id': '1'}, created_at='2025-08-08T06:37:40.278598+00:00', parent_config={'configurable': {'thread_id': '1', 'checkpoint_ns': '', 'checkpoint_id': '1f074222-d4b8-64e8-8002-d359ae9437f1'}}, tasks=(), interrupts=()),\n",
       " StateSnapshot(values={'topic': 'Millennials', 'joke': 'Why did the Millennial always bring a ladder to work?\\n\\nBecause they heard the only way to climb the corporate ladder is by literally bringing a ladder!'}, next=('generate_explanation',), config={'configurable': {'thread_id': '1', 'checkpoint_ns': '', 'checkpoint_id': '1f074222-d4b8-64e8-8002-d359ae9437f1'}}, metadata={'source': 'loop', 'step': 2, 'parents': {}, 'thread_id': '1'}, created_at='2025-08-08T06:37:38.611914+00:00', parent_config={'configurable': {'thread_id': '1', 'checkpoint_ns': '', 'checkpoint_id': '1f074222-440c-6818-8001-a99beec67888'}}, tasks=(PregelTask(id='843866d1-ebd6-516f-5fcd-e588f3a6f99e', name='generate_explanation', path=('__pregel_pull', 'generate_explanation'), error=None, interrupts=(), state=None, result={'explanation': 'This joke is poking fun at the stereotype that Millennials are ambitious and eager to climb the corporate ladder quickly. The punchline plays on the idiom \"climbing the corporate ladder,\" which means advancing in a company or organization. By taking the saying literally and bringing a ladder to work, the Millennial in the joke is humorously demonstrating their determination to succeed in their career. It highlights the idea that Millennials are willing to go to extreme lengths or take unconventional routes to achieve their goals.'}),), interrupts=()),\n",
       " StateSnapshot(values={'topic': 'Millennials'}, next=('generate_joke',), config={'configurable': {'thread_id': '1', 'checkpoint_ns': '', 'checkpoint_id': '1f074222-440c-6818-8001-a99beec67888'}}, metadata={'source': 'update', 'step': 1, 'parents': {}, 'thread_id': '1'}, created_at='2025-08-08T06:37:23.442068+00:00', parent_config={'configurable': {'thread_id': '1', 'checkpoint_ns': '', 'checkpoint_id': '1f0741da-ce86-6090-8000-83066a8e6a05'}}, tasks=(PregelTask(id='aef01a99-1041-4cc0-c241-573169108341', name='generate_joke', path=('__pregel_pull', 'generate_joke'), error=None, interrupts=(), state=None, result={'joke': 'Why did the Millennial always bring a ladder to work?\\n\\nBecause they heard the only way to climb the corporate ladder is by literally bringing a ladder!'}),), interrupts=()),\n",
       " StateSnapshot(values={'topic': 'GenZ', 'joke': 'Why did the Gen Z kid bring a ladder to the bar? \\n\\nBecause they heard it was trending to \"climb\" to the top of the social scene!', 'explanation': 'This joke plays on the idea that Gen Z individuals are always trying to stay updated on the latest trends and fads. In this case, the Gen Z kid brings a ladder to the bar because they heard it was trendy to \"climb\" to the top of the social scene. The humor comes from the absurdity of someone bringing a ladder to a bar and also highlights the constant desire for younger generations to be seen as cool and popular.'}, next=(), config={'configurable': {'thread_id': '1', 'checkpoint_ns': '', 'checkpoint_id': '1f07421f-9b1e-6988-8002-f51c06c4c740'}}, metadata={'source': 'loop', 'step': 2, 'parents': {}, 'thread_id': '1'}, created_at='2025-08-08T06:36:12.041449+00:00', parent_config={'configurable': {'thread_id': '1', 'checkpoint_ns': '', 'checkpoint_id': '1f07421f-8545-6080-8001-d96b48ef07e4'}}, tasks=(), interrupts=()),\n",
       " StateSnapshot(values={'topic': 'GenZ', 'joke': 'Why did the Gen Z kid bring a ladder to the bar? \\n\\nBecause they heard it was trending to \"climb\" to the top of the social scene!'}, next=('generate_explanation',), config={'configurable': {'thread_id': '1', 'checkpoint_ns': '', 'checkpoint_id': '1f07421f-8545-6080-8001-d96b48ef07e4'}}, metadata={'source': 'loop', 'step': 1, 'parents': {}, 'thread_id': '1'}, created_at='2025-08-08T06:36:09.750324+00:00', parent_config={'configurable': {'thread_id': '1', 'checkpoint_ns': '', 'checkpoint_id': '1f0741da-ce86-6090-8000-83066a8e6a05'}}, tasks=(PregelTask(id='1a79366b-8cb1-08a2-e971-72c665487cd2', name='generate_explanation', path=('__pregel_pull', 'generate_explanation'), error=None, interrupts=(), state=None, result={'explanation': 'This joke plays on the idea that Gen Z individuals are always trying to stay updated on the latest trends and fads. In this case, the Gen Z kid brings a ladder to the bar because they heard it was trendy to \"climb\" to the top of the social scene. The humor comes from the absurdity of someone bringing a ladder to a bar and also highlights the constant desire for younger generations to be seen as cool and popular.'}),), interrupts=()),\n",
       " StateSnapshot(values={'topic': 'Millennials'}, next=('generate_joke',), config={'configurable': {'thread_id': '1', 'checkpoint_ns': '', 'checkpoint_id': '1f07421d-4f44-6474-8001-e464366546a1'}}, metadata={'source': 'update', 'step': 1, 'parents': {}, 'thread_id': '1'}, created_at='2025-08-08T06:35:10.400616+00:00', parent_config={'configurable': {'thread_id': '1', 'checkpoint_ns': '', 'checkpoint_id': '1f0741da-ce86-6090-8000-83066a8e6a05'}}, tasks=(PregelTask(id='9003fe0f-116d-6bc2-48e1-a830d46ef53d', name='generate_joke', path=('__pregel_pull', 'generate_joke'), error=None, interrupts=(), state=None, result=None),), interrupts=()),\n",
       " StateSnapshot(values={'topic': 'GenZ', 'joke': 'Why did the Gen Z-er bring a ladder to the bar? \\nBecause they heard the drinks were on a high shelf!', 'explanation': 'This joke is playing on the stereotype that members of Generation Z, known for their youthfulness and love of technology, may not be old enough to drink legally. By bringing a ladder to the bar, they are trying to humorously suggest that they need to physically reach up high to get to the drinks, as if they are too short or too young to access them easily. The punchline reveals that the reason for bringing the ladder is simply to reach the drinks on the high shelf, rather than for any other purpose.'}, next=(), config={'configurable': {'thread_id': '1', 'checkpoint_ns': '', 'checkpoint_id': '1f074216-3519-6632-8002-1de46f59be05'}}, metadata={'source': 'loop', 'step': 2, 'parents': {}, 'thread_id': '1'}, created_at='2025-08-08T06:31:59.751916+00:00', parent_config={'configurable': {'thread_id': '1', 'checkpoint_ns': '', 'checkpoint_id': '1f074216-122a-66ee-8001-fabbaa2bd9c7'}}, tasks=(), interrupts=()),\n",
       " StateSnapshot(values={'topic': 'GenZ', 'joke': 'Why did the Gen Z-er bring a ladder to the bar? \\nBecause they heard the drinks were on a high shelf!'}, next=('generate_explanation',), config={'configurable': {'thread_id': '1', 'checkpoint_ns': '', 'checkpoint_id': '1f074216-122a-66ee-8001-fabbaa2bd9c7'}}, metadata={'source': 'loop', 'step': 1, 'parents': {}, 'thread_id': '1'}, created_at='2025-08-08T06:31:56.088877+00:00', parent_config={'configurable': {'thread_id': '1', 'checkpoint_ns': '', 'checkpoint_id': '1f0741da-ce86-6090-8000-83066a8e6a05'}}, tasks=(PregelTask(id='0b1f6bcc-529f-fe4d-fb03-5efc4fd65ce4', name='generate_explanation', path=('__pregel_pull', 'generate_explanation'), error=None, interrupts=(), state=None, result={'explanation': 'This joke is playing on the stereotype that members of Generation Z, known for their youthfulness and love of technology, may not be old enough to drink legally. By bringing a ladder to the bar, they are trying to humorously suggest that they need to physically reach up high to get to the drinks, as if they are too short or too young to access them easily. The punchline reveals that the reason for bringing the ladder is simply to reach the drinks on the high shelf, rather than for any other purpose.'}),), interrupts=()),\n",
       " StateSnapshot(values={'topic': 'GenZ', 'joke': 'Why did GenZ refuse to play hide and seek with Millennials? Because they knew the Millennials would just snapchat their hiding spots!', 'explanation': 'This joke plays on the stereotype that Millennials are obsessed with social media, specifically Snapchat. GenZ refuses to play hide and seek with Millennials because they know that Millennials would most likely just snap their hiding spots instead of actually playing the game. This implies that Millennials prioritize documenting their experiences on social media over actually engaging in real-life activities.'}, next=(), config={'configurable': {'thread_id': '1', 'checkpoint_ns': '', 'checkpoint_id': '1f0741da-efa8-6b38-8002-8ee1790f9eea'}}, metadata={'source': 'loop', 'step': 2, 'parents': {}, 'thread_id': '1'}, created_at='2025-08-08T06:05:28.701410+00:00', parent_config={'configurable': {'thread_id': '1', 'checkpoint_ns': '', 'checkpoint_id': '1f0741da-dcf2-68e0-8001-a6410f5cda56'}}, tasks=(), interrupts=()),\n",
       " StateSnapshot(values={'topic': 'GenZ', 'joke': 'Why did GenZ refuse to play hide and seek with Millennials? Because they knew the Millennials would just snapchat their hiding spots!'}, next=('generate_explanation',), config={'configurable': {'thread_id': '1', 'checkpoint_ns': '', 'checkpoint_id': '1f0741da-dcf2-68e0-8001-a6410f5cda56'}}, metadata={'source': 'loop', 'step': 1, 'parents': {}, 'thread_id': '1'}, created_at='2025-08-08T06:05:26.739363+00:00', parent_config={'configurable': {'thread_id': '1', 'checkpoint_ns': '', 'checkpoint_id': '1f0741da-ce86-6090-8000-83066a8e6a05'}}, tasks=(PregelTask(id='49613b6c-621e-3124-bc3e-6665c3abb47e', name='generate_explanation', path=('__pregel_pull', 'generate_explanation'), error=None, interrupts=(), state=None, result={'explanation': 'This joke plays on the stereotype that Millennials are obsessed with social media, specifically Snapchat. GenZ refuses to play hide and seek with Millennials because they know that Millennials would most likely just snap their hiding spots instead of actually playing the game. This implies that Millennials prioritize documenting their experiences on social media over actually engaging in real-life activities.'}),), interrupts=()),\n",
       " StateSnapshot(values={'topic': 'GenZ'}, next=('generate_joke',), config={'configurable': {'thread_id': '1', 'checkpoint_ns': '', 'checkpoint_id': '1f0741da-ce86-6090-8000-83066a8e6a05'}}, metadata={'source': 'loop', 'step': 0, 'parents': {}, 'thread_id': '1'}, created_at='2025-08-08T06:05:25.226915+00:00', parent_config={'configurable': {'thread_id': '1', 'checkpoint_ns': '', 'checkpoint_id': '1f0741da-ce84-647a-bfff-61ece6286a6f'}}, tasks=(PregelTask(id='146bdb80-81b0-1ef1-2d8a-4ede9cbf3b21', name='generate_joke', path=('__pregel_pull', 'generate_joke'), error=None, interrupts=(), state=None, result={'joke': 'Why did GenZ refuse to play hide and seek with Millennials? Because they knew the Millennials would just snapchat their hiding spots!'}),), interrupts=()),\n",
       " StateSnapshot(values={}, next=('__start__',), config={'configurable': {'thread_id': '1', 'checkpoint_ns': '', 'checkpoint_id': '1f0741da-ce84-647a-bfff-61ece6286a6f'}}, metadata={'source': 'input', 'step': -1, 'parents': {}, 'thread_id': '1'}, created_at='2025-08-08T06:05:25.226195+00:00', parent_config=None, tasks=(PregelTask(id='6fbad3d3-3647-c8c6-9863-4f9664d53ca0', name='__start__', path=('__pregel_pull', '__start__'), error=None, interrupts=(), state=None, result={'topic': 'GenZ'}),), interrupts=())]"
      ]
     },
     "execution_count": 34,
     "metadata": {},
     "output_type": "execute_result"
    }
   ],
   "source": [
    "list(workflow.get_state_history(config1))"
   ]
  },
  {
   "cell_type": "markdown",
   "id": "82d9f023",
   "metadata": {},
   "source": [
    "Fault Tolerance"
   ]
  },
  {
   "cell_type": "code",
   "execution_count": 16,
   "id": "823504d7",
   "metadata": {},
   "outputs": [],
   "source": [
    "# 1. Define the state\n",
    "class CrashState(TypedDict):\n",
    "    input: str\n",
    "    step1: str\n",
    "    step2: str\n",
    "    step3: str"
   ]
  },
  {
   "cell_type": "code",
   "execution_count": 18,
   "id": "fd66a484",
   "metadata": {},
   "outputs": [],
   "source": [
    "# 2. Define steps\n",
    "def step_1(state: CrashState) -> CrashState:\n",
    "    print(\"✅ Step 1 executed\")\n",
    "    return {\"step1\": \"done\", \"input\": state[\"input\"]}\n",
    "\n",
    "def step_2(state: CrashState) -> CrashState:\n",
    "    print(\"⏳ Step 2 hanging... now manually interrupt from the notebook toolbar (STOP button)\")\n",
    "    time.sleep(30)  # Simulate long-running hang\n",
    "    return {\"step2\": \"done\"}\n",
    "\n",
    "def step_3(state: CrashState) -> CrashState:\n",
    "    print(\"✅ Step 3 executed\")\n",
    "    return {\"done\": True}"
   ]
  },
  {
   "cell_type": "code",
   "execution_count": 19,
   "id": "1f893324",
   "metadata": {},
   "outputs": [],
   "source": [
    "# 3. Build the graph\n",
    "builder = StateGraph(CrashState)\n",
    "builder.add_node(\"step_1\", step_1)\n",
    "builder.add_node(\"step_2\", step_2)\n",
    "builder.add_node(\"step_3\", step_3)\n",
    "\n",
    "builder.set_entry_point(\"step_1\")\n",
    "builder.add_edge(\"step_1\", \"step_2\")\n",
    "builder.add_edge(\"step_2\", \"step_3\")\n",
    "builder.add_edge(\"step_3\", END)\n",
    "\n",
    "checkpointer = InMemorySaver()\n",
    "graph = builder.compile(checkpointer=checkpointer)"
   ]
  },
  {
   "cell_type": "code",
   "execution_count": 20,
   "id": "cdc568cd",
   "metadata": {},
   "outputs": [
    {
     "data": {
      "image/png": "[encoded data removed]",
      "text/plain": [
       "<langgraph.graph.state.CompiledStateGraph object at 0x1075fd6d0>"
      ]
     },
     "execution_count": 20,
     "metadata": {},
     "output_type": "execute_result"
    }
   ],
   "source": [
    "graph"
   ]
  },
  {
   "cell_type": "code",
   "execution_count": 21,
   "id": "19aebb1f",
   "metadata": {},
   "outputs": [
    {
     "name": "stdout",
     "output_type": "stream",
     "text": [
      "▶️ Running graph: Please manually interrupt during Step 2...\n",
      "✅ Step 1 executed\n",
      "⏳ Step 2 hanging... now manually interrupt from the notebook toolbar (STOP button)\n",
      "❌ Kernel manually interrupted (crash simulated).\n"
     ]
    }
   ],
   "source": [
    "try:\n",
    "    print(\"▶️ Running graph: Please manually interrupt during Step 2...\")\n",
    "    graph.invoke({\"input\": \"start\"}, config={\"configurable\": {\"thread_id\": 'thread-1'}})\n",
    "except KeyboardInterrupt:\n",
    "    print(\"❌ Kernel manually interrupted (crash simulated).\")"
   ]
  },
  {
   "cell_type": "code",
   "execution_count": 22,
   "id": "7e42837f",
   "metadata": {},
   "outputs": [
    {
     "data": {
      "text/plain": [
       "StateSnapshot(values={'input': 'start', 'step1': 'done'}, next=('step_2',), config={'configurable': {'thread_id': 'thread-1', 'checkpoint_ns': '', 'checkpoint_id': '1f0741fa-a203-641c-8001-f2babe1e25d1'}}, metadata={'source': 'loop', 'step': 1, 'parents': {}, 'thread_id': 'thread-1'}, created_at='2025-08-08T06:19:39.553070+00:00', parent_config={'configurable': {'thread_id': 'thread-1', 'checkpoint_ns': '', 'checkpoint_id': '1f0741fa-a200-6190-8000-4a9f664b5800'}}, tasks=(PregelTask(id='741fc7c6-9e1f-a5bc-49d9-3f1bc7b49860', name='step_2', path=('__pregel_pull', 'step_2'), error=None, interrupts=(), state=None, result=None),), interrupts=())"
      ]
     },
     "execution_count": 22,
     "metadata": {},
     "output_type": "execute_result"
    }
   ],
   "source": [
    "graph.get_state({\"configurable\": {\"thread_id\": 'thread-1'}})"
   ]
  },
  {
   "cell_type": "code",
   "execution_count": 23,
   "id": "dc145b36",
   "metadata": {},
   "outputs": [
    {
     "data": {
      "text/plain": [
       "[StateSnapshot(values={'input': 'start', 'step1': 'done'}, next=('step_2',), config={'configurable': {'thread_id': 'thread-1', 'checkpoint_ns': '', 'checkpoint_id': '1f0741fa-a203-641c-8001-f2babe1e25d1'}}, metadata={'source': 'loop', 'step': 1, 'parents': {}, 'thread_id': 'thread-1'}, created_at='2025-08-08T06:19:39.553070+00:00', parent_config={'configurable': {'thread_id': 'thread-1', 'checkpoint_ns': '', 'checkpoint_id': '1f0741fa-a200-6190-8000-4a9f664b5800'}}, tasks=(PregelTask(id='741fc7c6-9e1f-a5bc-49d9-3f1bc7b49860', name='step_2', path=('__pregel_pull', 'step_2'), error=None, interrupts=(), state=None, result=None),), interrupts=()),\n",
       " StateSnapshot(values={'input': 'start'}, next=('step_1',), config={'configurable': {'thread_id': 'thread-1', 'checkpoint_ns': '', 'checkpoint_id': '1f0741fa-a200-6190-8000-4a9f664b5800'}}, metadata={'source': 'loop', 'step': 0, 'parents': {}, 'thread_id': 'thread-1'}, created_at='2025-08-08T06:19:39.551775+00:00', parent_config={'configurable': {'thread_id': 'thread-1', 'checkpoint_ns': '', 'checkpoint_id': '1f0741fa-a1fd-6940-bfff-edf3bc801cb2'}}, tasks=(PregelTask(id='f9ba0817-cc6f-dbcf-54e2-2f94ab6303a6', name='step_1', path=('__pregel_pull', 'step_1'), error=None, interrupts=(), state=None, result={'step1': 'done', 'input': 'start'}),), interrupts=()),\n",
       " StateSnapshot(values={}, next=('__start__',), config={'configurable': {'thread_id': 'thread-1', 'checkpoint_ns': '', 'checkpoint_id': '1f0741fa-a1fd-6940-bfff-edf3bc801cb2'}}, metadata={'source': 'input', 'step': -1, 'parents': {}, 'thread_id': 'thread-1'}, created_at='2025-08-08T06:19:39.550746+00:00', parent_config=None, tasks=(PregelTask(id='d8076cf5-90fa-2ab7-3099-4ef44e4d0928', name='__start__', path=('__pregel_pull', '__start__'), error=None, interrupts=(), state=None, result={'input': 'start'}),), interrupts=())]"
      ]
     },
     "execution_count": 23,
     "metadata": {},
     "output_type": "execute_result"
    }
   ],
   "source": [
    "list(graph.get_state_history({\"configurable\": {\"thread_id\": 'thread-1'}}))"
   ]
  },
  {
   "cell_type": "code",
   "execution_count": 24,
   "id": "35643e80",
   "metadata": {},
   "outputs": [
    {
     "name": "stdout",
     "output_type": "stream",
     "text": [
      "\n",
      "🔁 Re-running the graph to demonstrate fault tolerance...\n",
      "⏳ Step 2 hanging... now manually interrupt from the notebook toolbar (STOP button)\n",
      "✅ Step 3 executed\n",
      "\n",
      "✅ Final State: {'input': 'start', 'step1': 'done', 'step2': 'done'}\n"
     ]
    }
   ],
   "source": [
    "# 6. Re-run to show fault-tolerant resume\n",
    "print(\"\\n🔁 Re-running the graph to demonstrate fault tolerance...\")\n",
    "final_state = graph.invoke(None, config={\"configurable\": {\"thread_id\": 'thread-1'}})\n",
    "print(\"\\n✅ Final State:\", final_state)"
   ]
  },
  {
   "cell_type": "code",
   "execution_count": 25,
   "id": "bdbbd311",
   "metadata": {},
   "outputs": [
    {
     "data": {
      "text/plain": [
       "[StateSnapshot(values={'input': 'start', 'step1': 'done', 'step2': 'done'}, next=(), config={'configurable': {'thread_id': 'thread-1', 'checkpoint_ns': '', 'checkpoint_id': '1f074203-1a07-62da-8003-ab4b145b6201'}}, metadata={'source': 'loop', 'step': 3, 'parents': {}, 'thread_id': 'thread-1'}, created_at='2025-08-08T06:23:26.885946+00:00', parent_config={'configurable': {'thread_id': 'thread-1', 'checkpoint_ns': '', 'checkpoint_id': '1f074203-1a02-6622-8002-9a8bedcf717b'}}, tasks=(), interrupts=()),\n",
       " StateSnapshot(values={'input': 'start', 'step1': 'done', 'step2': 'done'}, next=('step_3',), config={'configurable': {'thread_id': 'thread-1', 'checkpoint_ns': '', 'checkpoint_id': '1f074203-1a02-6622-8002-9a8bedcf717b'}}, metadata={'source': 'loop', 'step': 2, 'parents': {}, 'thread_id': 'thread-1'}, created_at='2025-08-08T06:23:26.883969+00:00', parent_config={'configurable': {'thread_id': 'thread-1', 'checkpoint_ns': '', 'checkpoint_id': '1f0741fa-a203-641c-8001-f2babe1e25d1'}}, tasks=(PregelTask(id='4ad97762-1a9d-6bf5-a201-2c46e0485eed', name='step_3', path=('__pregel_pull', 'step_3'), error=None, interrupts=(), state=None, result={}),), interrupts=()),\n",
       " StateSnapshot(values={'input': 'start', 'step1': 'done'}, next=('step_2',), config={'configurable': {'thread_id': 'thread-1', 'checkpoint_ns': '', 'checkpoint_id': '1f0741fa-a203-641c-8001-f2babe1e25d1'}}, metadata={'source': 'loop', 'step': 1, 'parents': {}, 'thread_id': 'thread-1'}, created_at='2025-08-08T06:19:39.553070+00:00', parent_config={'configurable': {'thread_id': 'thread-1', 'checkpoint_ns': '', 'checkpoint_id': '1f0741fa-a200-6190-8000-4a9f664b5800'}}, tasks=(PregelTask(id='741fc7c6-9e1f-a5bc-49d9-3f1bc7b49860', name='step_2', path=('__pregel_pull', 'step_2'), error=None, interrupts=(), state=None, result={'step2': 'done'}),), interrupts=()),\n",
       " StateSnapshot(values={'input': 'start'}, next=('step_1',), config={'configurable': {'thread_id': 'thread-1', 'checkpoint_ns': '', 'checkpoint_id': '1f0741fa-a200-6190-8000-4a9f664b5800'}}, metadata={'source': 'loop', 'step': 0, 'parents': {}, 'thread_id': 'thread-1'}, created_at='2025-08-08T06:19:39.551775+00:00', parent_config={'configurable': {'thread_id': 'thread-1', 'checkpoint_ns': '', 'checkpoint_id': '1f0741fa-a1fd-6940-bfff-edf3bc801cb2'}}, tasks=(PregelTask(id='f9ba0817-cc6f-dbcf-54e2-2f94ab6303a6', name='step_1', path=('__pregel_pull', 'step_1'), error=None, interrupts=(), state=None, result={'step1': 'done', 'input': 'start'}),), interrupts=()),\n",
       " StateSnapshot(values={}, next=('__start__',), config={'configurable': {'thread_id': 'thread-1', 'checkpoint_ns': '', 'checkpoint_id': '1f0741fa-a1fd-6940-bfff-edf3bc801cb2'}}, metadata={'source': 'input', 'step': -1, 'parents': {}, 'thread_id': 'thread-1'}, created_at='2025-08-08T06:19:39.550746+00:00', parent_config=None, tasks=(PregelTask(id='d8076cf5-90fa-2ab7-3099-4ef44e4d0928', name='__start__', path=('__pregel_pull', '__start__'), error=None, interrupts=(), state=None, result={'input': 'start'}),), interrupts=())]"
      ]
     },
     "execution_count": 25,
     "metadata": {},
     "output_type": "execute_result"
    }
   ],
   "source": [
    "list(graph.get_state_history({\"configurable\": {\"thread_id\": 'thread-1'}}))"
   ]
  }
 ],
 "metadata": {
  "kernelspec": {
   "display_name": "myenv",
   "language": "python",
   "name": "python3"
  },
  "language_info": {
   "codemirror_mode": {
    "name": "ipython",
    "version": 3
   },
   "file_extension": ".py",
   "mimetype": "text/x-python",
   "name": "python",
   "nbconvert_exporter": "python",
   "pygments_lexer": "ipython3",
   "version": "3.13.5"
  }
 },
 "nbformat": 4,
 "nbformat_minor": 5
}
